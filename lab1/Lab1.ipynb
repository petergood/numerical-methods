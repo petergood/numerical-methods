{
 "cells": [
  {
   "cell_type": "markdown",
   "metadata": {},
   "source": [
    "# Arytmetyka komputerowa"
   ]
  },
  {
   "cell_type": "markdown",
   "metadata": {},
   "source": [
    "## 1. Sumowanie liczb pojedynczej precyzji"
   ]
  },
  {
   "cell_type": "code",
   "execution_count": 1,
   "metadata": {},
   "outputs": [],
   "source": [
    "#include <stdio.h>\n",
    "#include <iostream>\n",
    "\n",
    "#define MEASURE_TIME(FUNC) {\\\n",
    "    auto start = std::chrono::high_resolution_clock::now();\\\n",
    "    FUNC();\\\n",
    "    auto end = std::chrono::high_resolution_clock::now();\\\n",
    "    std::chrono::duration<double> time_span = std::chrono::duration_cast<std::chrono::duration<double>>(end - start);\\\n",
    "    std::cout << \"time:\" << time_span.count() << \" seconds\" << std::endl;\\\n",
    "}"
   ]
  },
  {
   "cell_type": "code",
   "execution_count": 2,
   "metadata": {},
   "outputs": [],
   "source": [
    "std::vector<float> v;\n",
    "const int N = 1e7;\n",
    "const float x = 0.12345;\n",
    "const float expectedResult = 1234500;\n",
    "\n",
    "for (int i = 0; i < N; i++) {\n",
    "    v.push_back(x);\n",
    "}"
   ]
  },
  {
   "cell_type": "markdown",
   "metadata": {},
   "source": [
    "### Wersja iteracyjna"
   ]
  },
  {
   "cell_type": "code",
   "execution_count": 3,
   "metadata": {},
   "outputs": [],
   "source": [
    "void compute_array_sum() {\n",
    "    float sum = 0;\n",
    "    int i = 0;\n",
    "    const int reportStep = 25000;\n",
    "\n",
    "    for (auto num : v) {\n",
    "        sum += num;\n",
    "        i++;\n",
    "    }\n",
    "\n",
    "    float absoluteError = std::abs(expectedResult - sum);\n",
    "    float relativeError = std::abs(expectedResult - sum) / expectedResult;\n",
    "\n",
    "    std::cout << \"iterative result: \" << sum << std::endl;\n",
    "    std::cout << \"relative error: \" << relativeError << std::endl;\n",
    "    std::cout << \"absolute error: \" << absoluteError << std::endl;\n",
    "}"
   ]
  },
  {
   "cell_type": "code",
   "execution_count": 4,
   "metadata": {},
   "outputs": [
    {
     "name": "stdout",
     "output_type": "stream",
     "text": [
      "iterative result: 1.24951e+06\n",
      "relative error: 0.0121596\n",
      "absolute error: 15011\n",
      "time:0.0849421 seconds\n"
     ]
    }
   ],
   "source": [
    "MEASURE_TIME(compute_array_sum)"
   ]
  },
  {
   "cell_type": "markdown",
   "metadata": {},
   "source": [
    "Wysoki błąd względny wynika z faktu, że podczas sumowania iteracyjego dodajemy do siebie liczby znacząco różniące się wielkością. Liczba *x* która wcześniej była reprezentowalna \"znika\" podczas dodawania, ponieważ po wyrównaniu z dużą liczbą obcinane się miejsca dziesiętne."
   ]
  },
  {
   "cell_type": "markdown",
   "metadata": {},
   "source": [
    "![graph](graph.png)"
   ]
  },
  {
   "cell_type": "markdown",
   "metadata": {},
   "source": [
    "Błąd względny rośnie bardzo szybko na początku, potem wzrost ulega spowolnieniu."
   ]
  },
  {
   "cell_type": "markdown",
   "metadata": {},
   "source": [
    "### Wersja rekurencyjna"
   ]
  },
  {
   "cell_type": "code",
   "execution_count": 5,
   "metadata": {},
   "outputs": [],
   "source": [
    "float recursive_sum(int l, int r) {\n",
    "    if (l > r) {\n",
    "        return 0;\n",
    "    }\n",
    "\n",
    "    if (l == r) {\n",
    "        return x;\n",
    "    }\n",
    "\n",
    "    int mid = (l + r) / 2;\n",
    "    return recursive_sum(l, mid) + recursive_sum(mid + 1, r);\n",
    "}"
   ]
  },
  {
   "cell_type": "code",
   "execution_count": 6,
   "metadata": {},
   "outputs": [],
   "source": [
    "void compute_recursive_sum() {\n",
    "    float recursiveResult = recursive_sum(0, N);\n",
    "    float absoluteError = std::abs(expectedResult - recursiveResult);\n",
    "    float relativeError = std::abs(expectedResult - recursiveResult) / expectedResult;\n",
    "    std::cout << \"recursive result: \" << recursiveResult << std::endl;\n",
    "    std::cout << \"absolute error: \" << absoluteError << std::endl;\n",
    "    std::cout << \"relative error: \" << relativeError << std::endl;\n",
    "}"
   ]
  },
  {
   "cell_type": "code",
   "execution_count": 7,
   "metadata": {},
   "outputs": [
    {
     "name": "stdout",
     "output_type": "stream",
     "text": [
      "recursive result: 1.2345e+06\n",
      "absolute error: 0.125\n",
      "relative error: 1.01256e-07\n",
      "time:0.110238 seconds\n"
     ]
    }
   ],
   "source": [
    "MEASURE_TIME(compute_recursive_sum)"
   ]
  },
  {
   "cell_type": "markdown",
   "metadata": {},
   "source": [
    "Sumowanie metodą dziel i zwyciężaj ma mniejszy błąd względny, ponieważ dodawane sumy \"połówkowe\" mają podobną wielkość (sumę) - w przypadku tego zadania sumy \"połówkowe\" zawsze są równe."
   ]
  },
  {
   "cell_type": "markdown",
   "metadata": {},
   "source": [
    "## 2. Algorytm Kahana"
   ]
  },
  {
   "cell_type": "code",
   "execution_count": 8,
   "metadata": {},
   "outputs": [],
   "source": [
    "float kahan_sum(std::vector<float> v) {\n",
    "    float sum = 0;\n",
    "    float err = 0;\n",
    "    for (float x : v) {\n",
    "        float y = x - err;\n",
    "        float tmp = sum + y;\n",
    "        err = (tmp - sum) - y;\n",
    "        sum = tmp;\n",
    "    }\n",
    "\n",
    "    return sum;\n",
    "}"
   ]
  },
  {
   "cell_type": "code",
   "execution_count": 9,
   "metadata": {},
   "outputs": [],
   "source": [
    "void compute_kahan() {\n",
    "    float res = kahan_sum(v);\n",
    "    float absoluteError = std::abs(res - expectedResult);\n",
    "    float relativeError = std::abs(res - expectedResult) / expectedResult;\n",
    "    std::cout << \"result: \" << res << std::endl;\n",
    "    std::cout << \"absolute error: \" << absoluteError << std::endl;\n",
    "    std::cout << \"relative error: \" << relativeError << std::endl;\n",
    "}"
   ]
  },
  {
   "cell_type": "code",
   "execution_count": 10,
   "metadata": {},
   "outputs": [
    {
     "name": "stdout",
     "output_type": "stream",
     "text": [
      "result: 1.2345e+06\n",
      "absolute error: 0.125\n",
      "relative error: 1.01256e-07\n",
      "time:0.127863 seconds\n"
     ]
    }
   ],
   "source": [
    "MEASURE_TIME(compute_kahan)"
   ]
  },
  {
   "cell_type": "markdown",
   "metadata": {},
   "source": [
    "Algorytm Kahana odzyskuje najmniej znaczące bity, które zostałyby utracone podczas sumowania liczb znacząco różniących się wielkością. Służy do tego zmienna *err*, która algebraicznie jest równa *0*, ale dlatego, że *tmp* jest zaokrąglona, zawiera utracone LSB które zostaną dodane w kolejnej iteracji."
   ]
  },
  {
   "cell_type": "markdown",
   "metadata": {},
   "source": [
    "Czasy wykonywania algorytmu Kahana i algorytmu sumowania rekurencyjnego są porównywalne dla tych danych wejściowych."
   ]
  },
  {
   "cell_type": "markdown",
   "metadata": {},
   "source": [
    "## 3. Suma szeregu"
   ]
  },
  {
   "cell_type": "code",
   "execution_count": 11,
   "metadata": {},
   "outputs": [],
   "source": [
    "#include <cmath>"
   ]
  },
  {
   "cell_type": "code",
   "execution_count": 12,
   "metadata": {},
   "outputs": [],
   "source": [
    "float float_sum(int n, bool reverse) {\n",
    "    float exp =  1.0 / 4;\n",
    "    std::vector<float> v;\n",
    "    for (int i = 0; i < n; i++) {\n",
    "        v.push_back(exp);\n",
    "        exp /= 2;\n",
    "    }\n",
    "\n",
    "    float sum = 0;\n",
    "\n",
    "    if (reverse) {\n",
    "        for (int i = n - 1; i >= 0; i--) {\n",
    "            sum += v[i];\n",
    "        }\n",
    "    } else {\n",
    "        for (int i = 0; i < n; i++) {\n",
    "            sum += v[i];\n",
    "        }\n",
    "    }\n",
    "\n",
    "    return sum;\n",
    "}"
   ]
  },
  {
   "cell_type": "code",
   "execution_count": 13,
   "metadata": {},
   "outputs": [],
   "source": [
    "double double_sum(int n, bool reverse) {\n",
    "    double exp =  1.0 / 4;\n",
    "    std::vector<double> v;\n",
    "    for (int i = 0; i < n; i++) {\n",
    "        v.push_back(exp);\n",
    "        exp /= 2;\n",
    "    }\n",
    "\n",
    "    double sum = 0;\n",
    "\n",
    "    if (reverse) {\n",
    "        for (int i = n - 1; i >= 0; i--) {\n",
    "            sum += v[i];\n",
    "        }\n",
    "    } else {\n",
    "        for (int i = 0; i < n; i++) {\n",
    "            sum += v[i];\n",
    "        }\n",
    "    }\n",
    "\n",
    "    return sum;\n",
    "}"
   ]
  },
  {
   "cell_type": "code",
   "execution_count": 14,
   "metadata": {},
   "outputs": [],
   "source": [
    "auto sizes = std::vector<int> { 50, 100, 200, 500, 800 };"
   ]
  },
  {
   "cell_type": "code",
   "execution_count": 21,
   "metadata": {},
   "outputs": [
    {
     "name": "stdout",
     "output_type": "stream",
     "text": [
      "Size: 50\n",
      "result (in order): 0.5000000000\n",
      "absolute error: 0.0000000000\n",
      "relative error: 0.0000000000\n",
      "result (reversed): 0.5000000000\n",
      "absolute error: 0.0000000000\n",
      "relative error: 0.0000000000\n",
      "Size: 100\n",
      "result (in order): 0.5000000000\n",
      "absolute error: 0.0000000000\n",
      "relative error: 0.0000000000\n",
      "result (reversed): 0.5000000000\n",
      "absolute error: 0.0000000000\n",
      "relative error: 0.0000000000\n",
      "Size: 200\n",
      "result (in order): 0.5000000000\n",
      "absolute error: 0.0000000000\n",
      "relative error: 0.0000000000\n",
      "result (reversed): 0.5000000000\n",
      "absolute error: 0.0000000000\n",
      "relative error: 0.0000000000\n",
      "Size: 500\n",
      "result (in order): 0.5000000000\n",
      "absolute error: 0.0000000000\n",
      "relative error: 0.0000000000\n",
      "result (reversed): 0.5000000000\n",
      "absolute error: 0.0000000000\n",
      "relative error: 0.0000000000\n",
      "Size: 800\n",
      "result (in order): 0.5000000000\n",
      "absolute error: 0.0000000000\n",
      "relative error: 0.0000000000\n",
      "result (reversed): 0.5000000000\n",
      "absolute error: 0.0000000000\n",
      "relative error: 0.0000000000\n"
     ]
    }
   ],
   "source": [
    "std::cout.precision(10);\n",
    "for (int size : sizes) {\n",
    "    float resOrder = float_sum(size, false);\n",
    "    float resReverse = float_sum(size, true);\n",
    "    std::cout << \"Size: \" << size << std::endl;\n",
    "    std::cout << \"result (in order): \" << resOrder << std::endl;\n",
    "    std::cout << \"absolute error: \" << std::abs(0.5 - resOrder) << std::endl;\n",
    "    std::cout << \"relative error: \" << std::abs(0.5 - resOrder) / 0.5 << std::endl;\n",
    "    std::cout << \"result (reversed): \" << resReverse << std::endl;\n",
    "    std::cout << \"absolute error: \" << std::abs(0.5 - resReverse) << std::endl;\n",
    "    std::cout << \"relative error: \" << std::abs(0.5 - resReverse) / 0.5 << std::endl;\n",
    "}"
   ]
  },
  {
   "cell_type": "code",
   "execution_count": 23,
   "metadata": {},
   "outputs": [
    {
     "name": "stdout",
     "output_type": "stream",
     "text": [
      "Size: 50\n",
      "result (in order): 0.5000000000\n",
      "absolute error: 0.0000000000\n",
      "relative error: 0.0000000000\n",
      "result (reversed): 0.5000000000\n",
      "absolute error: 0.0000000000\n",
      "relative error: 0.0000000000\n",
      "Size: 100\n",
      "result (in order): 0.5000000000\n",
      "absolute error: 0.0000000000\n",
      "relative error: 0.0000000000\n",
      "result (reversed): 0.5000000000\n",
      "absolute error: 0.0000000000\n",
      "relative error: 0.0000000000\n",
      "Size: 200\n",
      "result (in order): 0.5000000000\n",
      "absolute error: 0.0000000000\n",
      "relative error: 0.0000000000\n",
      "result (reversed): 0.5000000000\n",
      "absolute error: 0.0000000000\n",
      "relative error: 0.0000000000\n",
      "Size: 500\n",
      "result (in order): 0.5000000000\n",
      "absolute error: 0.0000000000\n",
      "relative error: 0.0000000000\n",
      "result (reversed): 0.5000000000\n",
      "absolute error: 0.0000000000\n",
      "relative error: 0.0000000000\n",
      "Size: 800\n",
      "result (in order): 0.5000000000\n",
      "absolute error: 0.0000000000\n",
      "relative error: 0.0000000000\n",
      "result (reversed): 0.5000000000\n",
      "absolute error: 0.0000000000\n",
      "relative error: 0.0000000000\n"
     ]
    }
   ],
   "source": [
    "std::cout.precision(10);\n",
    "for (int size : sizes) {\n",
    "    double resOrder = double_sum(size, false);\n",
    "    double resReverse = double_sum(size, true);\n",
    "    std::cout << \"Size: \" << size << std::endl;\n",
    "    std::cout << \"result (in order): \" << resOrder << std::endl;\n",
    "    std::cout << \"absolute error: \" << std::abs(0.5 - resOrder) << std::endl;\n",
    "    std::cout << \"relative error: \" << std::abs(0.5 - resOrder) / 0.5 << std::endl;\n",
    "    std::cout << \"result (reversed): \" << resReverse << std::endl;\n",
    "    std::cout << \"absolute error: \" << std::abs(0.5 - resReverse) << std::endl;\n",
    "    std::cout << \"relative error: \" << std::abs(0.5 - resReverse) / 0.5 << std::endl;\n",
    "}"
   ]
  },
  {
   "cell_type": "code",
   "execution_count": 30,
   "metadata": {},
   "outputs": [
    {
     "name": "stdout",
     "output_type": "stream",
     "text": [
      "Size: 50\n",
      "result: 0.5000000000\n",
      "Size: 100\n",
      "result: 0.5000000000\n",
      "Size: 200\n",
      "result: 0.5000000000\n",
      "Size: 500\n",
      "result: 0.5000000000\n",
      "Size: 800\n",
      "result: 0.5000000000\n"
     ]
    }
   ],
   "source": [
    "for (int size : sizes) {\n",
    "    float exp =  1.0 / 4;\n",
    "    std::vector<float> vs;\n",
    "    for (int i = 0; i < size; i++) {\n",
    "        vs.push_back(exp);\n",
    "        exp /= 2;\n",
    "    }\n",
    "    \n",
    "    float sum = kahan_sum(vs);\n",
    "    std::cout << \"Size: \" << size << std::endl;\n",
    "    std::cout << \"result: \" << sum << std::endl;\n",
    "}"
   ]
  },
  {
   "cell_type": "markdown",
   "metadata": {},
   "source": [
    "W tym zadaniu otrzymałem dokładny wynik dla wszystkich przypadków, mimo, że według https://www.phys.uconn.edu/~rozman/Courses/P2200_11F/downloads/sum-howto.pdf (strona 2) sumowanie odwróconych liczb od tyłu powinno mieć o wiele mniejszy błąd."
   ]
  },
  {
   "cell_type": "markdown",
   "metadata": {},
   "source": [
    "## 4. Epsilon maszynowy"
   ]
  },
  {
   "cell_type": "code",
   "execution_count": 31,
   "metadata": {},
   "outputs": [],
   "source": [
    "float compute_eps() {\n",
    "    float eps = 0.5;\n",
    "    float prev = 0;\n",
    "\n",
    "    while (1 + eps != 1.0) {\n",
    "        prev = eps;\n",
    "        eps /= 2;\n",
    "    }\n",
    "\n",
    "    return prev;\n",
    "}"
   ]
  },
  {
   "cell_type": "code",
   "execution_count": 33,
   "metadata": {},
   "outputs": [
    {
     "data": {
      "text/plain": [
       "1.19209e-07f"
      ]
     },
     "execution_count": 33,
     "metadata": {},
     "output_type": "execute_result"
    }
   ],
   "source": [
    "compute_eps()"
   ]
  },
  {
   "cell_type": "markdown",
   "metadata": {},
   "source": [
    "Otrzymany wynik jest zgodny z matcheps podanym w standardzie IEEE 754."
   ]
  },
  {
   "cell_type": "markdown",
   "metadata": {},
   "source": [
    "## 5. Algorytm niestabilny numerycznie"
   ]
  },
  {
   "cell_type": "markdown",
   "metadata": {},
   "source": [
    "Algorytm obliczania e^x"
   ]
  },
  {
   "cell_type": "code",
   "execution_count": 34,
   "metadata": {},
   "outputs": [],
   "source": [
    "float compute_e(float exp) {\n",
    "    float sum = 1;\n",
    "    float lastsum = 0;\n",
    "    float num = exp;\n",
    "    long long fact = 1;\n",
    "    long long i = 2;\n",
    "\n",
    "    while (std::abs(std::abs(lastsum) - std::abs(sum)) > 1e-3) {\n",
    "        lastsum = sum;\n",
    "        sum += num / fact;\n",
    "        num *= exp;\n",
    "        fact = fact * i++;\n",
    "    }\n",
    "\n",
    "    return sum;\n",
    "}"
   ]
  },
  {
   "cell_type": "markdown",
   "metadata": {},
   "source": [
    "Przykład niestabilny:"
   ]
  },
  {
   "cell_type": "code",
   "execution_count": 35,
   "metadata": {},
   "outputs": [
    {
     "data": {
      "text/plain": [
       "0.00387991f"
      ]
     },
     "execution_count": 35,
     "metadata": {},
     "output_type": "execute_result"
    }
   ],
   "source": [
    "compute_e(-5.5)"
   ]
  },
  {
   "cell_type": "markdown",
   "metadata": {},
   "source": [
    "Dla liczb ujemnych algorytm jest niestabilny, obliczenia są wykonywane dokładnie, jednak uzyskujemy wynik z wysokim błędem względnym. Wynika to z tego, że podczas obliczania występuje \"catastrofic cancellation\" - gdy odejmujemy liczby zbliżone do siebie, tracimy wiele znaczących bitów (w wyniku zaokrągleń), w rezultacie wynik odejmowania jest bardzo niedokładny."
   ]
  },
  {
   "cell_type": "markdown",
   "metadata": {},
   "source": [
    "Przykład stabilny (unikamy odejmowania):"
   ]
  },
  {
   "cell_type": "code",
   "execution_count": 36,
   "metadata": {},
   "outputs": [
    {
     "data": {
      "text/plain": [
       "0.00408678f"
      ]
     },
     "execution_count": 36,
     "metadata": {},
     "output_type": "execute_result"
    }
   ],
   "source": [
    "1 / compute_e(5.5)"
   ]
  }
 ],
 "metadata": {
  "kernelspec": {
   "display_name": "C++11",
   "language": "C++11",
   "name": "xcpp11"
  },
  "language_info": {
   "codemirror_mode": "text/x-c++src",
   "file_extension": ".cpp",
   "mimetype": "text/x-c++src",
   "name": "c++",
   "version": "11"
  }
 },
 "nbformat": 4,
 "nbformat_minor": 4
}
