{
 "cells": [
  {
   "cell_type": "markdown",
   "metadata": {},
   "source": [
    "# Układy równań liniowych"
   ]
  },
  {
   "cell_type": "markdown",
   "metadata": {},
   "source": [
    "## Zadanie 1"
   ]
  },
  {
   "cell_type": "code",
   "execution_count": 1,
   "metadata": {},
   "outputs": [],
   "source": [
    "#include <cmath>\n",
    "#include \"aghMatrix.h\""
   ]
  },
  {
   "cell_type": "code",
   "execution_count": 2,
   "metadata": {},
   "outputs": [],
   "source": [
    "// Addition of two matrices                                                                                                                                                   \n",
    "template<typename T>\n",
    "AGHMatrix<T> AGHMatrix<T>::operator+(const AGHMatrix<T>& rhs) \n",
    "{\n",
    "  if (rows != rhs.get_rows() || cols != rhs.get_cols())\n",
    "  {\n",
    "    throw std::runtime_error(\"Matrices have to be of same size\");\n",
    "  }\n",
    "\n",
    "  AGHMatrix<T> mat(rows, cols, 0);\n",
    "\n",
    "  for (int i = 0; i < rows; i++) {\n",
    "    for (int j = 0; j < cols; j++) {\n",
    "      mat(i, j) = this->matrix[i][j] + rhs(i, j);\n",
    "    }\n",
    "  }\n",
    "\n",
    "  return mat;\n",
    "}\n",
    "\n",
    "// Left multiplication of this matrix and another                                                                                                                              \n",
    "template<typename T>\n",
    "AGHMatrix<T> AGHMatrix<T>::operator*(const AGHMatrix<T>& rhs) \n",
    "{\n",
    "  if (cols != rhs.get_rows()) {\n",
    "    throw std::runtime_error(\"Incorrect matrix dimensions\");\n",
    "  }\n",
    "\n",
    "  AGHMatrix<T> mat(rows, rhs.get_cols(), 0);\n",
    "\n",
    "  for (int i = 0; i < rows; i++) {\n",
    "    for (int j = 0; j < rhs.get_cols(); j++) {\n",
    "      T sum = 0;\n",
    "      for (int k = 0; k < cols; k++) {\n",
    "        sum += this->matrix[i][k] * rhs(k, j);\n",
    "      }\n",
    "      mat(i, j) = sum;\n",
    "    }\n",
    "  }\n",
    "\n",
    "  return mat;\n",
    "}"
   ]
  },
  {
   "cell_type": "markdown",
   "metadata": {},
   "source": [
    "## Zadanie 2"
   ]
  },
  {
   "cell_type": "markdown",
   "metadata": {},
   "source": [
    "Aby dokonać transpozycji macierzy zamieniamy kolumny z wierszami.\n",
    "Macierz jest symetryczna wtw. gdy jest równa swojej transpozycji."
   ]
  },
  {
   "cell_type": "code",
   "execution_count": 3,
   "metadata": {},
   "outputs": [],
   "source": [
    "template<typename T>\n",
    "AGHMatrix<T> AGHMatrix<T>::transpose()\n",
    "{\n",
    "  AGHMatrix<T> mat(cols, rows, 0);\n",
    "\n",
    "  for (int i = 0; i < cols; i++) {\n",
    "    for (int j = 0; j < rows; j++) {\n",
    "      mat(i, j) = this->matrix[j][i];\n",
    "    }\n",
    "  }\n",
    "\n",
    "  return mat;\n",
    "}\n",
    "\n",
    "template<typename T>\n",
    "bool AGHMatrix<T>::is_symmetric()\n",
    "{\n",
    "  return (rows == cols && *this == transpose());\n",
    "}"
   ]
  },
  {
   "cell_type": "markdown",
   "metadata": {},
   "source": [
    "Wyznaczik macierzy liczę dopowadzając macierz do postaci schodkowej za pomocą metody gaussa. Implementacja znajduje się poniżej."
   ]
  },
  {
   "cell_type": "markdown",
   "metadata": {},
   "source": [
    "## Zadanie 3 - Faktoryzacja w metodzie LU"
   ]
  },
  {
   "cell_type": "markdown",
   "metadata": {},
   "source": [
    "Faktoryzację LU dokonuję za pomocą metody Doolittle'a. Równanie A = LU traktujemy jako układ n^2 równań z n^2 niewiadomymi. Dodatkowo zakładamy, że na przekątej głównej macierzy L znajdują się jedynki (oczywiście z założenia metody LU L i U to są macierze trójkątne, odpowiednio dolne i górne). Przy tych założeniach otrzymujemy zależności na wartości elementów macierzy L i U, które są dane wzorami rekurencyjnymi (zaimplementowano ponieżej)."
   ]
  },
  {
   "cell_type": "code",
   "execution_count": 4,
   "metadata": {},
   "outputs": [],
   "source": [
    "template<typename T>\n",
    "std::pair<AGHMatrix<double>, AGHMatrix<double>> doolittleDecomposition(AGHMatrix<T> mat) {\n",
    "    if (mat.get_rows() != mat.get_cols()) {\n",
    "        throw std::runtime_error(\"Matrix has to be sqare\");\n",
    "    }\n",
    "\n",
    "    int n = mat.get_rows();\n",
    "    AGHMatrix<T> u(n, n, 0);\n",
    "    AGHMatrix<T> l(n, n, 0);\n",
    "    for (int i = 0; i < n; i++) l(i, i) = 1;\n",
    "\n",
    "    for (int i = 0; i < n; i++) {\n",
    "        for (int j = i; j < n; j++) {\n",
    "            T s = 0;\n",
    "            for (int k = 0; k < i; k++) {\n",
    "                s += l(i, k) * u(k, j);\n",
    "            }\n",
    "            u(i, j) = mat(i, j) - s;\n",
    "        }\n",
    "\n",
    "        for (int j = i + 1; j < n; j++) {\n",
    "            T s = 0;\n",
    "            for (int k = 0; k < i; k++) {\n",
    "                s += l(j, k) * u(k, i);\n",
    "            }\n",
    "\n",
    "            if (u(i, i) == 0) {\n",
    "                throw std::runtime_error(\"Division by 0\");\n",
    "            }\n",
    "\n",
    "            l(j, i) = (1.0 / u(i, i)) * (mat(j, i) - s);\n",
    "        }\n",
    "    }\n",
    "\n",
    "    return std::make_pair(l, u);\n",
    "}"
   ]
  },
  {
   "cell_type": "code",
   "execution_count": 5,
   "metadata": {},
   "outputs": [
    {
     "name": "stdout",
     "output_type": "stream",
     "text": [
      "1, 0, 0, \n",
      "0.2, 1, 0, \n",
      "0.6, -1.28571, 1, \n",
      "\n",
      "5, 3, 2, \n",
      "0, 1.4, -0.4, \n",
      "0, 0, 2.28571, \n",
      "\n"
     ]
    }
   ],
   "source": [
    "AGHMatrix<double> mat({{ 5.0, 3.0, 2.0 }, \n",
    "                            { 1.0, 2.0, 0.0 }, \n",
    "                            { 3.0, 0.0, 4.0 }});\n",
    "\n",
    "auto res = doolittleDecomposition(mat);\n",
    "std::cout << res.first;\n",
    "std::cout << res.second;"
   ]
  },
  {
   "cell_type": "markdown",
   "metadata": {},
   "source": [
    "Powyżej jest widoczna macierz L i macierz U (mat = LU)"
   ]
  },
  {
   "cell_type": "markdown",
   "metadata": {},
   "source": [
    "## Zadanie 4 - Faktoryzacja Cholesky'ego"
   ]
  },
  {
   "cell_type": "markdown",
   "metadata": {},
   "source": [
    "Dodatnio określoną symetryczną macierz rozkładamy na macierz trójkątną dolną i jej transpozycję (A = LL^T). Po rozpisaniu mnożenia macierzy otrzymujemy szereg równań rekurencyjnych (rozwiązujemy od pierwszego równania, gdzie mamy tylko jedną niewiadomą)."
   ]
  },
  {
   "cell_type": "code",
   "execution_count": 6,
   "metadata": {},
   "outputs": [],
   "source": [
    "template<typename T>\n",
    "AGHMatrix<double> choleskyDecomposition(AGHMatrix<T> mat) {\n",
    "    if (!mat.is_symmetric()) {\n",
    "        throw std::runtime_error(\"Matrix is not symmetric\");\n",
    "    }\n",
    "    \n",
    "    int n = mat.get_rows();\n",
    "    AGHMatrix<double> l(n, n, 0);\n",
    "\n",
    "    for (int i = 0; i < n; i++) {\n",
    "        for (int j = 0; j <= i; j++) {\n",
    "            if (i == j) {\n",
    "                T s = 0;\n",
    "                for (int k = 0; k < i; k++) {\n",
    "                    s += l(i, k) * l(i, k);\n",
    "                }\n",
    "                l(i, j) = sqrt(mat(i, j) - s);\n",
    "            } else {\n",
    "                T s = 0;\n",
    "                for (int k = 0; k < i; k++) {\n",
    "                    s += l(j, k) * l(i, k);\n",
    "                }\n",
    "                l(i, j) = (mat(i, j) - s) / l(j, j);\n",
    "            }\n",
    "        }\n",
    "    }\n",
    "\n",
    "    return l;\n",
    "}"
   ]
  },
  {
   "cell_type": "code",
   "execution_count": 7,
   "metadata": {},
   "outputs": [
    {
     "name": "stdout",
     "output_type": "stream",
     "text": [
      "2, 0, 0, \n",
      "6, 1, 0, \n",
      "-8, 5, 3, \n",
      "\n",
      "\n",
      "2, 6, -8, \n",
      "0, 1, 5, \n",
      "0, 0, 3, \n",
      "\n",
      "\n"
     ]
    }
   ],
   "source": [
    "AGHMatrix<double> mat2({{ 4.0, 12.0, -16.0 }, \n",
    "                            { 12.0, 37.0, -43.0 }, \n",
    "                            { -16.0, -43.0, 98.0 }});\n",
    "\n",
    "AGHMatrix<double> L = choleskyDecomposition(mat2); \n",
    "std::cout << L << std::endl;\n",
    "std::cout << L.transpose() << std::endl;"
   ]
  },
  {
   "cell_type": "markdown",
   "metadata": {},
   "source": [
    "### Porównanie faktoryzacji Doolittle'a i Choleskiego"
   ]
  },
  {
   "cell_type": "markdown",
   "metadata": {},
   "source": [
    "W metodzie LU podstawowym problemem jest faktoryzacja macierzy na dwie macierze trójkątne - jedna jest\n",
    "macierzą trójkątną górną, a druga dolną. Aby dokonać faktoryzacji korzystamy z metody Doolittla, w której\n",
    "iteracyjnie (ze złożonością O(n^3)) obliczamy kolejne wartości w macierzach rozkładu. Dodatkowo, metoda działa tylko jeżeli  w macierzy trójkątniej górnej na przekątnej nie występuje 0 (w takiej sytuacji możemy spróbować zamienić dany rząd z innym - https://en.wikipedia.org/wiki/LU_decomposition). \n",
    "\n",
    "W metodzie Choleskiego\n",
    "postępujemy podobnie, ale mamy dodatkowe ograniczenia, mianowicie rozkładana macierz musi być symetryczna\n",
    "i dodatnio określona. Również macierz rozkładamy na macierz trójkątną górną i dolną, ale druga macierz jest transpozycją pierwszej. Złożoność obliczeniowa jest również rzędu O(n^3)."
   ]
  },
  {
   "cell_type": "markdown",
   "metadata": {},
   "source": [
    "## Zadanie 5 - Eliminacja Gaussa"
   ]
  },
  {
   "cell_type": "markdown",
   "metadata": {},
   "source": [
    "Eliminacja Gaussa polega na sprowadzeniu macierzy do postaci schodkowej. Dokonujemy tego poprzez wynonanie szeregu  operacji na wierszach macierzy (dodawanie kombinacji liniowych elementów innych wierszy macierzy)."
   ]
  },
  {
   "cell_type": "code",
   "execution_count": 8,
   "metadata": {},
   "outputs": [],
   "source": [
    "enum SystemSolution { INF, ONE, ZERO };"
   ]
  },
  {
   "cell_type": "code",
   "execution_count": 9,
   "metadata": {},
   "outputs": [],
   "source": [
    "template<typename T>\n",
    "SystemSolution to_echelon_form(AGHMatrix<T> &mat) {\n",
    "    int n = mat.get_rows();\n",
    "\n",
    "    // powtarzamy redukcję dla każdej niewiadomej\n",
    "    for (int k = 0; k < n; k++) {\n",
    "        // znajdujemy wiersz, w której współ. przy k-tej niewiadomej ma największą wartość bezwzględną\n",
    "        // moglibyśmy wybrać dowolny wiersz, w którym współ. przy k-tej niewiadomej ma niezerową wartość,\n",
    "        // ale wybranie wartości z największą wartością bezwzględną sprawia, że algorytm jest bardziej \n",
    "        // stabilny numerycznie.\n",
    "        int mx = k;\n",
    "        for (int i = k; i < n; i++) {\n",
    "            if (std::abs(mat(i, k)) > std::abs(mat(mx, k))) {\n",
    "                mx = i;\n",
    "            }\n",
    "        }\n",
    "\n",
    "        // znaleziony wiersz zamieniamy z aktualnym\n",
    "        mat.swap_rows(k, mx);\n",
    "\n",
    "        // maksymalna wartość współ. przy k-tej niewiadomej jest równa zero\n",
    "        // (z tego wynika, że wszystkie są równe zero)\n",
    "        if (mat(k, k) == 0) {\n",
    "            // z Tw. Kroneckera-Capellego\n",
    "            return mat(k, n) != 0 ? ZERO : INF;\n",
    "        }\n",
    "\n",
    "        // dla wierszy niżej\n",
    "        for (int i = k + 1; i < n; i++) {\n",
    "            // wartość, przez którą będziemy mnożyć k-ty wiersz, aby wyzerować k-ty współczynnik\n",
    "            // w i-tym wierszu\n",
    "            double f = mat(i, k) / mat(k, k);\n",
    "\n",
    "            for (int j = k + 1; j < mat.get_cols(); j++) {\n",
    "                // od każdego współczynnika odejmujemy k-ty wiersz pomnożony przez f\n",
    "                mat(i, j) -= mat(k, j) * f;\n",
    "            }\n",
    "\n",
    "            // zerujemy współczynnik (robimy to poza pętlą aby uniknąć uzyskania małej liczby zmiennoprzecinkowej w\n",
    "            // wyniku niedokładności)\n",
    "            mat(i, k) = 0;\n",
    "        }\n",
    "    }\n",
    "\n",
    "    return ONE;\n",
    "}\n",
    "\n",
    "template<typename T>\n",
    "AGHMatrix<T> get_res(AGHMatrix<T> echelonMat) {\n",
    "    int n = echelonMat.get_rows();\n",
    "    AGHMatrix<T> res(n, 1, 0);\n",
    "\n",
    "    // zaczynamy od końca (mamy jedną niewiadomą)\n",
    "    for (int k = n - 1; k >= 0; k--) {\n",
    "        // sumujemy kombinacje poprzednio obliczonych niewiadomych\n",
    "        T s = 0;\n",
    "        for (int i = k + 1; i < n; i++) {\n",
    "            s += echelonMat(k, i) * res(i, 0);\n",
    "        }\n",
    "\n",
    "        // obliczamy wartość k-tej niewiadomej\n",
    "        res(k, 0) = (echelonMat(k, n) - s) / echelonMat(k, k);\n",
    "    }\n",
    "\n",
    "    return res.transpose();\n",
    "}"
   ]
  },
  {
   "cell_type": "code",
   "execution_count": 10,
   "metadata": {},
   "outputs": [
    {
     "name": "stdout",
     "output_type": "stream",
     "text": [
      "1\n",
      "-3, -1, 2, -11, \n",
      "0, 1.66667, 0.666667, 4.33333, \n",
      "0, 0, 0.2, -0.2, \n",
      "\n",
      "\n",
      "2, 3, -1, \n",
      "\n"
     ]
    }
   ],
   "source": [
    "AGHMatrix<double> mat3({{ 2.0, 1.0, -1.0, 8.0 }, \n",
    "                            { -3.0, -1.0, 2.0, -11.0 }, \n",
    "                            { -2.0, 1.0, 2.0, -3.0 }});\n",
    "\n",
    "std::cout << to_echelon_form(mat3) << std::endl;\n",
    "std::cout << mat3 << std::endl;\n",
    "std::cout << get_res(mat3);"
   ]
  },
  {
   "cell_type": "markdown",
   "metadata": {},
   "source": [
    "Powyżej widzimy postać schodkową macierzy *mat3* oraz rozwiązanie układu równań."
   ]
  },
  {
   "cell_type": "markdown",
   "metadata": {},
   "source": [
    "### Wyzancznik macierzy"
   ]
  },
  {
   "cell_type": "markdown",
   "metadata": {},
   "source": [
    "Wyznaczik macierzy schodkowej jest równy iloczynowi wartości leżących na przekątnej macierzy."
   ]
  },
  {
   "cell_type": "code",
   "execution_count": 16,
   "metadata": {},
   "outputs": [],
   "source": [
    "template <typename T>\n",
    "double det(AGHMatrix<T> mat) {\n",
    "    if (mat.get_rows() != mat.get_cols()) {\n",
    "        throw std::runtime_error(\"Matrix must be square\");\n",
    "    }\n",
    "\n",
    "    to_echelon_form(mat);\n",
    "    double d = mat(0, 0);\n",
    "\n",
    "    for (int i = 1; i < mat.get_rows(); i++) {\n",
    "        d *= mat(i, i);\n",
    "    }\n",
    "\n",
    "    return d;\n",
    "}"
   ]
  },
  {
   "cell_type": "markdown",
   "metadata": {},
   "source": [
    "## Zadanie 6 - Metoda Jacobiego"
   ]
  },
  {
   "cell_type": "code",
   "execution_count": 11,
   "metadata": {},
   "outputs": [],
   "source": [
    "template<typename T>\n",
    "bool is_close_enough(AGHMatrix<T> prev, AGHMatrix<T> curr, double eps) {\n",
    "    for (int i = 0; i < prev.get_rows(); i++) {\n",
    "        if (std::abs(prev(i, 0) - curr(i, 0)) > eps) {\n",
    "            return false;\n",
    "        }\n",
    "    }\n",
    "\n",
    "    return true;\n",
    "}\n",
    "\n",
    "template<typename T>\n",
    "AGHMatrix<T> jacobi(AGHMatrix<T> a, AGHMatrix<T> b, double eps) {\n",
    "    int n = a.get_rows();\n",
    "    AGHMatrix<T> x(n, 1, 0);\n",
    "    AGHMatrix<T> last(n, 1, 0);\n",
    "    AGHMatrix<T> L(n, n, 0);\n",
    "    AGHMatrix<T> D(n, n, 0);\n",
    "    AGHMatrix<T> U(n, n, 0);\n",
    "    \n",
    "    for (int i = 0; i < n; i++) {\n",
    "        for (int j = 0; j < i; j++) L(i, j) = a(i, j);\n",
    "        for (int j = n - 1; j > i; j--) U(i, j) = a(i, j);\n",
    "        D(i, i) = 1.0 / a(i, i);\n",
    "    }\n",
    "\n",
    "    AGHMatrix<T> M = (L + U) * (-1);\n",
    "\n",
    "    for (;;) {\n",
    "        AGHMatrix<T> tmp = D * ((M * x) + b);\n",
    "        if (is_close_enough(x, tmp, eps)) break;\n",
    "        x = tmp;\n",
    "    }\n",
    "\n",
    "    return x;\n",
    "}"
   ]
  },
  {
   "cell_type": "code",
   "execution_count": 12,
   "metadata": {},
   "outputs": [],
   "source": [
    "AGHMatrix<double> a({{ 4.0, -1.0, -0.2, 2.0 }, \n",
    "                            { -1.0, 5.0, 0, -2.0 }, \n",
    "                            { 0.2, 1.0, 10.0 -1.0 },\n",
    "                            { 0, -2.0, -1.0, 4.0 }});\n",
    "AGHMatrix<double> b({{ 30.0, 0, -10.0, 5.0 }});"
   ]
  },
  {
   "cell_type": "code",
   "execution_count": 15,
   "metadata": {},
   "outputs": [
    {
     "name": "stdout",
     "output_type": "stream",
     "text": [
      "6.98818, \n",
      "2.18342, \n",
      "-1.50901, \n",
      "1.96446, \n",
      "\n"
     ]
    }
   ],
   "source": [
    "std::cout << jacobi(a, b.transpose(), 0.000001);"
   ]
  },
  {
   "cell_type": "markdown",
   "metadata": {},
   "source": [
    "Metoda Jacobiego działa w inny sposób od powyższych algorytmów, mianowicie najpierw rozkładamy daną macierz na sumę trzech macierzy - trójkątnej górnej, dolnej i macierzy diagonalnej, a następnie po odpowiednich przekształceniach oblicza iteracyjnie wartości macierzy kolumnowej x, zaczynając od jakiegoś danego stanu początkowego. Kolejne wartości macierzy kolumnowej x zbiegają do poszukiwanego rozwiązania.\n",
    "\n",
    "Mamy również dodatkowe ograniczenie, mianowicie macierz współczynników musi być macierzą przekątniowo dominująca, co oznacza, że suma wartości bezwzględnych elementów nieleżących na przekątnej musi być mniejsza bądź równa wartości bezwzględej elementu leżącego na przekątnej (w danym wierszu)."
   ]
  }
 ],
 "metadata": {
  "kernelspec": {
   "display_name": "C++11",
   "language": "C++11",
   "name": "xcpp11"
  },
  "language_info": {
   "codemirror_mode": "text/x-c++src",
   "file_extension": ".cpp",
   "mimetype": "text/x-c++src",
   "name": "c++",
   "version": "11"
  }
 },
 "nbformat": 4,
 "nbformat_minor": 4
}
